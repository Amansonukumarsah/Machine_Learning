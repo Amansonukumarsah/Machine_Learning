{
 "cells": [
  {
   "cell_type": "code",
   "execution_count": 2,
   "id": "c0852c77-0dcb-4602-bd67-604a2f6b12c4",
   "metadata": {},
   "outputs": [],
   "source": [
    "text = \"i am aman\""
   ]
  },
  {
   "cell_type": "code",
   "execution_count": 3,
   "id": "1b4858ef-71e1-4cfd-a6a1-3632b31fb31b",
   "metadata": {},
   "outputs": [
    {
     "data": {
      "text/plain": [
       "'i am aman'"
      ]
     },
     "execution_count": 3,
     "metadata": {},
     "output_type": "execute_result"
    }
   ],
   "source": [
    "text"
   ]
  },
  {
   "cell_type": "code",
   "execution_count": null,
   "id": "8e131d3b-777f-497f-bdcc-65ba0b97613f",
   "metadata": {},
   "outputs": [],
   "source": []
  }
 ],
 "metadata": {
  "kernelspec": {
   "display_name": "Python 3 (ipykernel)",
   "language": "python",
   "name": "python3"
  },
  "language_info": {
   "codemirror_mode": {
    "name": "ipython",
    "version": 3
   },
   "file_extension": ".py",
   "mimetype": "text/x-python",
   "name": "python",
   "nbconvert_exporter": "python",
   "pygments_lexer": "ipython3",
   "version": "3.11.7"
  }
 },
 "nbformat": 4,
 "nbformat_minor": 5
}
