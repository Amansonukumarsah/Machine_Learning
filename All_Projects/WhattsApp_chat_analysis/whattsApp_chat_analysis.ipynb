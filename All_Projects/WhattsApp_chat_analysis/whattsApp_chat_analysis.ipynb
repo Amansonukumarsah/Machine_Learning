{
 "cells": [
  {
   "cell_type": "markdown",
   "id": "5feb8044-ea59-4f23-8d6c-e7dceffbec00",
   "metadata": {},
   "source": [
    "# Whatts_App_Chat_Analysis"
   ]
  },
  {
   "cell_type": "code",
   "execution_count": null,
   "id": "0e7f70fe-b83a-4be4-9336-c857cde6bf2f",
   "metadata": {},
   "outputs": [],
   "source": [
    "from sklearn."
   ]
  }
 ],
 "metadata": {
  "kernelspec": {
   "display_name": "Python 3 (ipykernel)",
   "language": "python",
   "name": "python3"
  },
  "language_info": {
   "codemirror_mode": {
    "name": "ipython",
    "version": 3
   },
   "file_extension": ".py",
   "mimetype": "text/x-python",
   "name": "python",
   "nbconvert_exporter": "python",
   "pygments_lexer": "ipython3",
   "version": "3.11.7"
  }
 },
 "nbformat": 4,
 "nbformat_minor": 5
}
