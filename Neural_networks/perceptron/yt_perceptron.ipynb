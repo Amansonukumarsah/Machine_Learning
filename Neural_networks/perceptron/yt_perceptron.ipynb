{
 "cells": [
  {
   "cell_type": "code",
   "execution_count": 30,
   "id": "2c7c7586-9fb9-4536-a06a-efd4fdb52a2f",
   "metadata": {},
   "outputs": [],
   "source": [
    "import numpy as np\n",
    "import pandas as pd\n",
    "import seaborn as sns\n",
    "import matplotlib.pyplot as plt\n",
    "from sklearn.linear_model import Perceptron\n",
    "from mlxtend.plotting import plot_decision_regions"
   ]
  },
  {
   "cell_type": "code",
   "execution_count": 28,
   "id": "78aab1f5-b4c4-41d2-bdc0-0f82a717bcaa",
   "metadata": {},
   "outputs": [
    {
     "name": "stdout",
     "output_type": "stream",
     "text": [
      "Collecting mlxtendNote: you may need to restart the kernel to use updated packages.\n",
      "\n",
      "  Downloading mlxtend-0.23.4-py3-none-any.whl.metadata (7.3 kB)\n",
      "Requirement already satisfied: scipy>=1.2.1 in c:\\users\\amank\\anaconda3\\lib\\site-packages (from mlxtend) (1.11.4)\n",
      "Requirement already satisfied: numpy>=1.16.2 in c:\\users\\amank\\anaconda3\\lib\\site-packages (from mlxtend) (1.26.4)\n",
      "Requirement already satisfied: pandas>=0.24.2 in c:\\users\\amank\\anaconda3\\lib\\site-packages (from mlxtend) (2.1.4)\n",
      "Collecting scikit-learn>=1.3.1 (from mlxtend)\n",
      "  Downloading scikit_learn-1.7.1-cp311-cp311-win_amd64.whl.metadata (11 kB)\n",
      "Requirement already satisfied: matplotlib>=3.0.0 in c:\\users\\amank\\anaconda3\\lib\\site-packages (from mlxtend) (3.8.0)\n",
      "Requirement already satisfied: joblib>=0.13.2 in c:\\users\\amank\\anaconda3\\lib\\site-packages (from mlxtend) (1.2.0)\n",
      "Requirement already satisfied: contourpy>=1.0.1 in c:\\users\\amank\\anaconda3\\lib\\site-packages (from matplotlib>=3.0.0->mlxtend) (1.2.0)\n",
      "Requirement already satisfied: cycler>=0.10 in c:\\users\\amank\\anaconda3\\lib\\site-packages (from matplotlib>=3.0.0->mlxtend) (0.11.0)\n",
      "Requirement already satisfied: fonttools>=4.22.0 in c:\\users\\amank\\anaconda3\\lib\\site-packages (from matplotlib>=3.0.0->mlxtend) (4.25.0)\n",
      "Requirement already satisfied: kiwisolver>=1.0.1 in c:\\users\\amank\\anaconda3\\lib\\site-packages (from matplotlib>=3.0.0->mlxtend) (1.4.4)\n",
      "Requirement already satisfied: packaging>=20.0 in c:\\users\\amank\\anaconda3\\lib\\site-packages (from matplotlib>=3.0.0->mlxtend) (23.1)\n",
      "Requirement already satisfied: pillow>=6.2.0 in c:\\users\\amank\\anaconda3\\lib\\site-packages (from matplotlib>=3.0.0->mlxtend) (10.2.0)\n",
      "Requirement already satisfied: pyparsing>=2.3.1 in c:\\users\\amank\\anaconda3\\lib\\site-packages (from matplotlib>=3.0.0->mlxtend) (3.0.9)\n",
      "Requirement already satisfied: python-dateutil>=2.7 in c:\\users\\amank\\anaconda3\\lib\\site-packages (from matplotlib>=3.0.0->mlxtend) (2.8.2)\n",
      "Requirement already satisfied: pytz>=2020.1 in c:\\users\\amank\\anaconda3\\lib\\site-packages (from pandas>=0.24.2->mlxtend) (2023.3.post1)\n",
      "Requirement already satisfied: tzdata>=2022.1 in c:\\users\\amank\\anaconda3\\lib\\site-packages (from pandas>=0.24.2->mlxtend) (2023.3)\n",
      "Collecting threadpoolctl>=3.1.0 (from scikit-learn>=1.3.1->mlxtend)\n",
      "  Downloading threadpoolctl-3.6.0-py3-none-any.whl.metadata (13 kB)\n",
      "Requirement already satisfied: six>=1.5 in c:\\users\\amank\\anaconda3\\lib\\site-packages (from python-dateutil>=2.7->matplotlib>=3.0.0->mlxtend) (1.16.0)\n",
      "Downloading mlxtend-0.23.4-py3-none-any.whl (1.4 MB)\n",
      "   ---------------------------------------- 0.0/1.4 MB ? eta -:--:--\n",
      "   ---------------------------------------- 0.0/1.4 MB ? eta -:--:--\n",
      "    --------------------------------------- 0.0/1.4 MB 330.3 kB/s eta 0:00:05\n",
      "   - -------------------------------------- 0.0/1.4 MB 281.8 kB/s eta 0:00:05\n",
      "   - -------------------------------------- 0.1/1.4 MB 328.2 kB/s eta 0:00:04\n",
      "   -- ------------------------------------- 0.1/1.4 MB 383.3 kB/s eta 0:00:04\n",
      "   -- ------------------------------------- 0.1/1.4 MB 308.0 kB/s eta 0:00:05\n",
      "   --- ------------------------------------ 0.1/1.4 MB 328.2 kB/s eta 0:00:04\n",
      "   --- ------------------------------------ 0.1/1.4 MB 313.8 kB/s eta 0:00:04\n",
      "   --- ------------------------------------ 0.1/1.4 MB 313.8 kB/s eta 0:00:04\n",
      "   ---- ----------------------------------- 0.2/1.4 MB 351.5 kB/s eta 0:00:04\n",
      "   ----- ---------------------------------- 0.2/1.4 MB 349.3 kB/s eta 0:00:04\n",
      "   ----- ---------------------------------- 0.2/1.4 MB 357.2 kB/s eta 0:00:04\n",
      "   ------ --------------------------------- 0.2/1.4 MB 382.6 kB/s eta 0:00:03\n",
      "   ------- -------------------------------- 0.2/1.4 MB 386.7 kB/s eta 0:00:03\n",
      "   -------- ------------------------------- 0.3/1.4 MB 396.2 kB/s eta 0:00:03\n",
      "   -------- ------------------------------- 0.3/1.4 MB 402.4 kB/s eta 0:00:03\n",
      "   --------- ------------------------------ 0.3/1.4 MB 395.9 kB/s eta 0:00:03\n",
      "   --------- ------------------------------ 0.3/1.4 MB 403.5 kB/s eta 0:00:03\n",
      "   ---------- ----------------------------- 0.4/1.4 MB 409.6 kB/s eta 0:00:03\n",
      "   ----------- ---------------------------- 0.4/1.4 MB 425.2 kB/s eta 0:00:03\n",
      "   ------------ --------------------------- 0.4/1.4 MB 419.1 kB/s eta 0:00:03\n",
      "   ------------- -------------------------- 0.4/1.4 MB 430.1 kB/s eta 0:00:03\n",
      "   ------------- -------------------------- 0.5/1.4 MB 427.1 kB/s eta 0:00:03\n",
      "   ------------- -------------------------- 0.5/1.4 MB 433.9 kB/s eta 0:00:03\n",
      "   -------------- ------------------------- 0.5/1.4 MB 427.8 kB/s eta 0:00:03\n",
      "   -------------- ------------------------- 0.5/1.4 MB 427.8 kB/s eta 0:00:03\n",
      "   --------------- ------------------------ 0.5/1.4 MB 414.9 kB/s eta 0:00:03\n",
      "   --------------- ------------------------ 0.5/1.4 MB 414.9 kB/s eta 0:00:03\n",
      "   --------------- ------------------------ 0.5/1.4 MB 393.3 kB/s eta 0:00:03\n",
      "   ---------------- ----------------------- 0.5/1.4 MB 382.8 kB/s eta 0:00:03\n",
      "   ---------------- ----------------------- 0.6/1.4 MB 396.1 kB/s eta 0:00:02\n",
      "   ----------------- ---------------------- 0.6/1.4 MB 386.4 kB/s eta 0:00:02\n",
      "   ----------------- ---------------------- 0.6/1.4 MB 391.8 kB/s eta 0:00:02\n",
      "   ------------------ --------------------- 0.6/1.4 MB 390.5 kB/s eta 0:00:02\n",
      "   ------------------ --------------------- 0.6/1.4 MB 390.5 kB/s eta 0:00:02\n",
      "   ------------------ --------------------- 0.6/1.4 MB 373.6 kB/s eta 0:00:02\n",
      "   ------------------ --------------------- 0.6/1.4 MB 373.6 kB/s eta 0:00:02\n",
      "   ------------------- -------------------- 0.7/1.4 MB 374.5 kB/s eta 0:00:02\n",
      "   -------------------- ------------------- 0.7/1.4 MB 378.6 kB/s eta 0:00:02\n",
      "   -------------------- ------------------- 0.7/1.4 MB 378.6 kB/s eta 0:00:02\n",
      "   --------------------- ------------------ 0.7/1.4 MB 376.8 kB/s eta 0:00:02\n",
      "   --------------------- ------------------ 0.7/1.4 MB 375.3 kB/s eta 0:00:02\n",
      "   ---------------------- ----------------- 0.7/1.4 MB 374.4 kB/s eta 0:00:02\n",
      "   ---------------------- ----------------- 0.8/1.4 MB 373.1 kB/s eta 0:00:02\n",
      "   ---------------------- ----------------- 0.8/1.4 MB 373.1 kB/s eta 0:00:02\n",
      "   ----------------------- ---------------- 0.8/1.4 MB 361.4 kB/s eta 0:00:02\n",
      "   ------------------------ --------------- 0.8/1.4 MB 369.9 kB/s eta 0:00:02\n",
      "   ------------------------ --------------- 0.8/1.4 MB 369.2 kB/s eta 0:00:02\n",
      "   ------------------------- -------------- 0.8/1.4 MB 368.1 kB/s eta 0:00:02\n",
      "   ------------------------- -------------- 0.9/1.4 MB 367.6 kB/s eta 0:00:02\n",
      "   -------------------------- ------------- 0.9/1.4 MB 371.3 kB/s eta 0:00:02\n",
      "   -------------------------- ------------- 0.9/1.4 MB 376.9 kB/s eta 0:00:02\n",
      "   --------------------------- ------------ 0.9/1.4 MB 378.2 kB/s eta 0:00:02\n",
      "   ---------------------------- ----------- 1.0/1.4 MB 378.5 kB/s eta 0:00:02\n",
      "   ----------------------------- ---------- 1.0/1.4 MB 383.7 kB/s eta 0:00:01\n",
      "   ----------------------------- ---------- 1.0/1.4 MB 386.9 kB/s eta 0:00:01\n",
      "   ------------------------------- -------- 1.1/1.4 MB 393.3 kB/s eta 0:00:01\n",
      "   -------------------------------- ------- 1.1/1.4 MB 405.4 kB/s eta 0:00:01\n",
      "   -------------------------------- ------- 1.1/1.4 MB 405.4 kB/s eta 0:00:01\n",
      "   -------------------------------- ------- 1.1/1.4 MB 405.4 kB/s eta 0:00:01\n",
      "   --------------------------------- ------ 1.1/1.4 MB 399.7 kB/s eta 0:00:01\n",
      "   ----------------------------------- ---- 1.2/1.4 MB 407.3 kB/s eta 0:00:01\n",
      "   ------------------------------------ --- 1.2/1.4 MB 413.5 kB/s eta 0:00:01\n",
      "   ------------------------------------ --- 1.2/1.4 MB 408.4 kB/s eta 0:00:01\n",
      "   ------------------------------------- -- 1.3/1.4 MB 415.5 kB/s eta 0:00:01\n",
      "   -------------------------------------- - 1.3/1.4 MB 419.2 kB/s eta 0:00:01\n",
      "   ---------------------------------------  1.4/1.4 MB 429.3 kB/s eta 0:00:01\n",
      "   ---------------------------------------- 1.4/1.4 MB 427.3 kB/s eta 0:00:00\n",
      "Downloading scikit_learn-1.7.1-cp311-cp311-win_amd64.whl (8.9 MB)\n",
      "   ---------------------------------------- 0.0/8.9 MB ? eta -:--:--\n",
      "   ---------------------------------------- 0.0/8.9 MB ? eta -:--:--\n",
      "   ---------------------------------------- 0.1/8.9 MB 825.8 kB/s eta 0:00:11\n",
      "    --------------------------------------- 0.1/8.9 MB 939.4 kB/s eta 0:00:10\n",
      "    --------------------------------------- 0.1/8.9 MB 939.4 kB/s eta 0:00:10\n",
      "    --------------------------------------- 0.1/8.9 MB 554.9 kB/s eta 0:00:16\n",
      "    --------------------------------------- 0.2/8.9 MB 656.4 kB/s eta 0:00:14\n",
      "    --------------------------------------- 0.2/8.9 MB 695.5 kB/s eta 0:00:13\n",
      "   - -------------------------------------- 0.2/8.9 MB 689.2 kB/s eta 0:00:13\n",
      "   - -------------------------------------- 0.3/8.9 MB 710.0 kB/s eta 0:00:13\n",
      "   - -------------------------------------- 0.3/8.9 MB 710.0 kB/s eta 0:00:13\n",
      "   - -------------------------------------- 0.3/8.9 MB 710.0 kB/s eta 0:00:13\n",
      "   - -------------------------------------- 0.4/8.9 MB 696.3 kB/s eta 0:00:13\n",
      "   - -------------------------------------- 0.4/8.9 MB 692.6 kB/s eta 0:00:13\n",
      "   - -------------------------------------- 0.4/8.9 MB 672.3 kB/s eta 0:00:13\n",
      "   - -------------------------------------- 0.4/8.9 MB 688.1 kB/s eta 0:00:13\n",
      "   -- ------------------------------------- 0.5/8.9 MB 700.6 kB/s eta 0:00:13\n",
      "   -- ------------------------------------- 0.5/8.9 MB 712.1 kB/s eta 0:00:12\n",
      "   -- ------------------------------------- 0.6/8.9 MB 709.4 kB/s eta 0:00:12\n",
      "   -- ------------------------------------- 0.6/8.9 MB 719.5 kB/s eta 0:00:12\n",
      "   -- ------------------------------------- 0.6/8.9 MB 727.2 kB/s eta 0:00:12\n",
      "   -- ------------------------------------- 0.7/8.9 MB 710.8 kB/s eta 0:00:12\n",
      "   --- ------------------------------------ 0.7/8.9 MB 697.5 kB/s eta 0:00:12\n",
      "   --- ------------------------------------ 0.7/8.9 MB 706.6 kB/s eta 0:00:12\n",
      "   --- ------------------------------------ 0.8/8.9 MB 723.7 kB/s eta 0:00:12\n",
      "   --- ------------------------------------ 0.8/8.9 MB 723.7 kB/s eta 0:00:12\n",
      "   --- ------------------------------------ 0.8/8.9 MB 664.4 kB/s eta 0:00:13\n",
      "   --- ------------------------------------ 0.8/8.9 MB 681.5 kB/s eta 0:00:12\n",
      "   --- ------------------------------------ 0.9/8.9 MB 671.9 kB/s eta 0:00:12\n",
      "   ---- ----------------------------------- 0.9/8.9 MB 695.5 kB/s eta 0:00:12\n",
      "   ---- ----------------------------------- 0.9/8.9 MB 695.5 kB/s eta 0:00:12\n",
      "   ---- ----------------------------------- 1.0/8.9 MB 685.1 kB/s eta 0:00:12\n",
      "   ---- ----------------------------------- 1.0/8.9 MB 697.7 kB/s eta 0:00:12\n",
      "   ---- ----------------------------------- 1.1/8.9 MB 718.0 kB/s eta 0:00:11\n",
      "   ---- ----------------------------------- 1.1/8.9 MB 718.0 kB/s eta 0:00:11\n",
      "   ---- ----------------------------------- 1.1/8.9 MB 694.3 kB/s eta 0:00:12\n",
      "   ----- ---------------------------------- 1.1/8.9 MB 706.4 kB/s eta 0:00:11\n",
      "   ----- ---------------------------------- 1.2/8.9 MB 716.6 kB/s eta 0:00:11\n",
      "   ----- ---------------------------------- 1.3/8.9 MB 726.7 kB/s eta 0:00:11\n",
      "   ----- ---------------------------------- 1.3/8.9 MB 731.4 kB/s eta 0:00:11\n",
      "   ----- ---------------------------------- 1.3/8.9 MB 731.4 kB/s eta 0:00:11\n",
      "   ------ --------------------------------- 1.4/8.9 MB 727.5 kB/s eta 0:00:11\n",
      "   ------ --------------------------------- 1.4/8.9 MB 753.1 kB/s eta 0:00:10\n",
      "   ------ --------------------------------- 1.5/8.9 MB 761.3 kB/s eta 0:00:10\n",
      "   ------ --------------------------------- 1.5/8.9 MB 758.7 kB/s eta 0:00:10\n",
      "   ------- -------------------------------- 1.6/8.9 MB 791.6 kB/s eta 0:00:10\n",
      "   ------- -------------------------------- 1.7/8.9 MB 798.3 kB/s eta 0:00:10\n",
      "   ------- -------------------------------- 1.7/8.9 MB 806.9 kB/s eta 0:00:09\n",
      "   ------- -------------------------------- 1.7/8.9 MB 806.9 kB/s eta 0:00:09\n",
      "   ------- -------------------------------- 1.7/8.9 MB 776.2 kB/s eta 0:00:10\n",
      "   ------- -------------------------------- 1.7/8.9 MB 776.2 kB/s eta 0:00:10\n",
      "   ------- -------------------------------- 1.8/8.9 MB 763.2 kB/s eta 0:00:10\n",
      "   ------- -------------------------------- 1.8/8.9 MB 755.8 kB/s eta 0:00:10\n",
      "   -------- ------------------------------- 1.8/8.9 MB 754.5 kB/s eta 0:00:10\n",
      "   -------- ------------------------------- 1.8/8.9 MB 743.1 kB/s eta 0:00:10\n",
      "   -------- ------------------------------- 1.9/8.9 MB 749.6 kB/s eta 0:00:10\n",
      "   -------- ------------------------------- 1.9/8.9 MB 749.2 kB/s eta 0:00:10\n",
      "   -------- ------------------------------- 1.9/8.9 MB 742.8 kB/s eta 0:00:10\n",
      "   -------- ------------------------------- 2.0/8.9 MB 756.8 kB/s eta 0:00:10\n",
      "   --------- ------------------------------ 2.0/8.9 MB 756.4 kB/s eta 0:00:10\n",
      "   --------- ------------------------------ 2.0/8.9 MB 756.4 kB/s eta 0:00:10\n",
      "   --------- ------------------------------ 2.0/8.9 MB 737.8 kB/s eta 0:00:10\n",
      "   --------- ------------------------------ 2.1/8.9 MB 724.2 kB/s eta 0:00:10\n",
      "   --------- ------------------------------ 2.1/8.9 MB 730.2 kB/s eta 0:00:10\n",
      "   --------- ------------------------------ 2.1/8.9 MB 730.2 kB/s eta 0:00:10\n",
      "   --------- ------------------------------ 2.1/8.9 MB 725.2 kB/s eta 0:00:10\n",
      "   --------- ------------------------------ 2.2/8.9 MB 716.8 kB/s eta 0:00:10\n",
      "   --------- ------------------------------ 2.2/8.9 MB 716.8 kB/s eta 0:00:10\n",
      "   --------- ------------------------------ 2.2/8.9 MB 702.0 kB/s eta 0:00:10\n",
      "   --------- ------------------------------ 2.2/8.9 MB 701.5 kB/s eta 0:00:10\n",
      "   ---------- ----------------------------- 2.3/8.9 MB 707.0 kB/s eta 0:00:10\n",
      "   ---------- ----------------------------- 2.3/8.9 MB 722.1 kB/s eta 0:00:10\n",
      "   ---------- ----------------------------- 2.4/8.9 MB 727.6 kB/s eta 0:00:09\n",
      "   ---------- ----------------------------- 2.4/8.9 MB 729.9 kB/s eta 0:00:09\n",
      "   ----------- ---------------------------- 2.5/8.9 MB 728.6 kB/s eta 0:00:09\n",
      "   ----------- ---------------------------- 2.5/8.9 MB 736.6 kB/s eta 0:00:09\n",
      "   ----------- ---------------------------- 2.5/8.9 MB 738.9 kB/s eta 0:00:09\n",
      "   ----------- ---------------------------- 2.7/8.9 MB 754.8 kB/s eta 0:00:09\n",
      "   ------------ --------------------------- 2.7/8.9 MB 762.7 kB/s eta 0:00:09\n",
      "   ------------ --------------------------- 2.8/8.9 MB 763.6 kB/s eta 0:00:09\n",
      "   ------------ --------------------------- 2.8/8.9 MB 770.8 kB/s eta 0:00:08\n",
      "   ------------ --------------------------- 2.9/8.9 MB 774.9 kB/s eta 0:00:08\n",
      "   ------------- -------------------------- 2.9/8.9 MB 787.1 kB/s eta 0:00:08\n",
      "   ------------- -------------------------- 3.0/8.9 MB 793.5 kB/s eta 0:00:08\n",
      "   ------------- -------------------------- 3.0/8.9 MB 791.8 kB/s eta 0:00:08\n",
      "   ------------- -------------------------- 3.1/8.9 MB 800.7 kB/s eta 0:00:08\n",
      "   -------------- ------------------------- 3.2/8.9 MB 808.1 kB/s eta 0:00:08\n",
      "   -------------- ------------------------- 3.2/8.9 MB 802.4 kB/s eta 0:00:08\n",
      "   -------------- ------------------------- 3.2/8.9 MB 800.8 kB/s eta 0:00:08\n",
      "   -------------- ------------------------- 3.3/8.9 MB 804.2 kB/s eta 0:00:08\n",
      "   -------------- ------------------------- 3.3/8.9 MB 806.8 kB/s eta 0:00:07\n",
      "   --------------- ------------------------ 3.4/8.9 MB 825.4 kB/s eta 0:00:07\n",
      "   --------------- ------------------------ 3.5/8.9 MB 835.7 kB/s eta 0:00:07\n",
      "   --------------- ------------------------ 3.6/8.9 MB 833.7 kB/s eta 0:00:07\n",
      "   ---------------- ----------------------- 3.6/8.9 MB 828.8 kB/s eta 0:00:07\n",
      "   ---------------- ----------------------- 3.6/8.9 MB 836.8 kB/s eta 0:00:07\n",
      "   ---------------- ----------------------- 3.7/8.9 MB 839.7 kB/s eta 0:00:07\n",
      "   ---------------- ----------------------- 3.7/8.9 MB 842.4 kB/s eta 0:00:07\n",
      "   ----------------- ---------------------- 3.8/8.9 MB 845.0 kB/s eta 0:00:07\n",
      "   ----------------- ---------------------- 3.9/8.9 MB 849.8 kB/s eta 0:00:06\n",
      "   ----------------- ---------------------- 3.9/8.9 MB 856.7 kB/s eta 0:00:06\n",
      "   ----------------- ---------------------- 4.0/8.9 MB 858.5 kB/s eta 0:00:06\n",
      "   ------------------ --------------------- 4.1/8.9 MB 865.8 kB/s eta 0:00:06\n",
      "   ------------------ --------------------- 4.1/8.9 MB 864.4 kB/s eta 0:00:06\n",
      "   ------------------ --------------------- 4.1/8.9 MB 858.1 kB/s eta 0:00:06\n",
      "   ------------------ --------------------- 4.1/8.9 MB 857.6 kB/s eta 0:00:06\n",
      "   ------------------ --------------------- 4.2/8.9 MB 859.8 kB/s eta 0:00:06\n",
      "   ------------------ --------------------- 4.2/8.9 MB 860.7 kB/s eta 0:00:06\n",
      "   ------------------- -------------------- 4.2/8.9 MB 856.6 kB/s eta 0:00:06\n",
      "   ------------------- -------------------- 4.3/8.9 MB 852.6 kB/s eta 0:00:06\n",
      "   ------------------- -------------------- 4.3/8.9 MB 848.1 kB/s eta 0:00:06\n",
      "   ------------------- -------------------- 4.3/8.9 MB 850.3 kB/s eta 0:00:06\n",
      "   ------------------- -------------------- 4.4/8.9 MB 858.6 kB/s eta 0:00:06\n",
      "   -------------------- ------------------- 4.5/8.9 MB 868.6 kB/s eta 0:00:06\n",
      "   -------------------- ------------------- 4.5/8.9 MB 871.9 kB/s eta 0:00:06\n",
      "   -------------------- ------------------- 4.5/8.9 MB 871.9 kB/s eta 0:00:06\n",
      "   -------------------- ------------------- 4.6/8.9 MB 858.4 kB/s eta 0:00:06\n",
      "   -------------------- ------------------- 4.6/8.9 MB 860.6 kB/s eta 0:00:05\n",
      "   --------------------- ------------------ 4.7/8.9 MB 866.9 kB/s eta 0:00:05\n",
      "   --------------------- ------------------ 4.8/8.9 MB 873.2 kB/s eta 0:00:05\n",
      "   --------------------- ------------------ 4.9/8.9 MB 876.9 kB/s eta 0:00:05\n",
      "   ---------------------- ----------------- 5.0/8.9 MB 887.8 kB/s eta 0:00:05\n",
      "   ---------------------- ----------------- 5.1/8.9 MB 898.7 kB/s eta 0:00:05\n",
      "   ----------------------- ---------------- 5.2/8.9 MB 910.3 kB/s eta 0:00:05\n",
      "   ----------------------- ---------------- 5.3/8.9 MB 915.4 kB/s eta 0:00:04\n",
      "   ----------------------- ---------------- 5.3/8.9 MB 918.5 kB/s eta 0:00:04\n",
      "   ------------------------ --------------- 5.4/8.9 MB 928.7 kB/s eta 0:00:04\n",
      "   ------------------------ --------------- 5.5/8.9 MB 931.9 kB/s eta 0:00:04\n",
      "   ------------------------- -------------- 5.6/8.9 MB 938.3 kB/s eta 0:00:04\n",
      "   ------------------------- -------------- 5.7/8.9 MB 947.0 kB/s eta 0:00:04\n",
      "   ------------------------- -------------- 5.7/8.9 MB 953.3 kB/s eta 0:00:04\n",
      "   ------------------------- -------------- 5.8/8.9 MB 953.4 kB/s eta 0:00:04\n",
      "   -------------------------- ------------- 5.8/8.9 MB 954.4 kB/s eta 0:00:04\n",
      "   -------------------------- ------------- 5.9/8.9 MB 956.5 kB/s eta 0:00:04\n",
      "   -------------------------- ------------- 5.9/8.9 MB 954.2 kB/s eta 0:00:04\n",
      "   --------------------------- ------------ 6.0/8.9 MB 961.7 kB/s eta 0:00:04\n",
      "   --------------------------- ------------ 6.1/8.9 MB 967.6 kB/s eta 0:00:03\n",
      "   --------------------------- ------------ 6.2/8.9 MB 976.5 kB/s eta 0:00:03\n",
      "   ---------------------------- ----------- 6.3/8.9 MB 982.3 kB/s eta 0:00:03\n",
      "   ---------------------------- ----------- 6.3/8.9 MB 983.1 kB/s eta 0:00:03\n",
      "   ---------------------------- ----------- 6.5/8.9 MB 993.4 kB/s eta 0:00:03\n",
      "   ---------------------------- ----------- 6.5/8.9 MB 992.5 kB/s eta 0:00:03\n",
      "   ----------------------------- ---------- 6.6/8.9 MB 997.0 kB/s eta 0:00:03\n",
      "   ----------------------------- ---------- 6.6/8.9 MB 998.5 kB/s eta 0:00:03\n",
      "   ------------------------------ --------- 6.7/8.9 MB 1,000.0 kB/s eta 0:00:03\n",
      "   ------------------------------ --------- 6.8/8.9 MB 1.0 MB/s eta 0:00:03\n",
      "   ------------------------------ --------- 6.9/8.9 MB 1.0 MB/s eta 0:00:03\n",
      "   ------------------------------- -------- 6.9/8.9 MB 1.0 MB/s eta 0:00:02\n",
      "   ------------------------------- -------- 7.0/8.9 MB 1.0 MB/s eta 0:00:02\n",
      "   -------------------------------- ------- 7.1/8.9 MB 1.0 MB/s eta 0:00:02\n",
      "   -------------------------------- ------- 7.2/8.9 MB 1.0 MB/s eta 0:00:02\n",
      "   -------------------------------- ------- 7.3/8.9 MB 1.0 MB/s eta 0:00:02\n",
      "   -------------------------------- ------- 7.3/8.9 MB 1.0 MB/s eta 0:00:02\n",
      "   --------------------------------- ------ 7.4/8.9 MB 1.0 MB/s eta 0:00:02\n",
      "   ---------------------------------- ----- 7.6/8.9 MB 1.1 MB/s eta 0:00:02\n",
      "   ---------------------------------- ----- 7.7/8.9 MB 1.1 MB/s eta 0:00:02\n",
      "   ----------------------------------- ---- 7.8/8.9 MB 1.1 MB/s eta 0:00:02\n",
      "   ----------------------------------- ---- 7.9/8.9 MB 1.1 MB/s eta 0:00:01\n",
      "   ----------------------------------- ---- 8.0/8.9 MB 1.1 MB/s eta 0:00:01\n",
      "   ------------------------------------ --- 8.1/8.9 MB 1.1 MB/s eta 0:00:01\n",
      "   ------------------------------------ --- 8.1/8.9 MB 1.1 MB/s eta 0:00:01\n",
      "   ------------------------------------ --- 8.2/8.9 MB 1.1 MB/s eta 0:00:01\n",
      "   ------------------------------------- -- 8.4/8.9 MB 1.1 MB/s eta 0:00:01\n",
      "   ------------------------------------- -- 8.4/8.9 MB 1.1 MB/s eta 0:00:01\n",
      "   -------------------------------------- - 8.6/8.9 MB 1.1 MB/s eta 0:00:01\n",
      "   ---------------------------------------  8.7/8.9 MB 1.1 MB/s eta 0:00:01\n",
      "   ---------------------------------------  8.8/8.9 MB 1.1 MB/s eta 0:00:01\n",
      "   ---------------------------------------  8.9/8.9 MB 1.2 MB/s eta 0:00:01\n",
      "   ---------------------------------------  8.9/8.9 MB 1.2 MB/s eta 0:00:01\n",
      "   ---------------------------------------- 8.9/8.9 MB 1.1 MB/s eta 0:00:00\n",
      "Downloading threadpoolctl-3.6.0-py3-none-any.whl (18 kB)\n",
      "Installing collected packages: threadpoolctl, scikit-learn, mlxtend\n",
      "  Attempting uninstall: threadpoolctl\n",
      "    Found existing installation: threadpoolctl 2.2.0\n",
      "    Uninstalling threadpoolctl-2.2.0:\n",
      "      Successfully uninstalled threadpoolctl-2.2.0\n",
      "  Attempting uninstall: scikit-learn\n",
      "    Found existing installation: scikit-learn 1.2.2\n",
      "    Uninstalling scikit-learn-1.2.2:\n",
      "      Successfully uninstalled scikit-learn-1.2.2\n",
      "Successfully installed mlxtend-0.23.4 scikit-learn-1.7.1 threadpoolctl-3.6.0\n"
     ]
    }
   ],
   "source": [
    "pip install mlxtend"
   ]
  },
  {
   "cell_type": "code",
   "execution_count": 3,
   "id": "7a65a4ca-6113-4cd2-9e7d-b68ac8f83b1c",
   "metadata": {},
   "outputs": [],
   "source": [
    "df = pd.read_csv(\"placement.csv\")"
   ]
  },
  {
   "cell_type": "code",
   "execution_count": 5,
   "id": "4204037e-fb3f-47c6-8318-e09c8827b1ce",
   "metadata": {},
   "outputs": [
    {
     "data": {
      "text/plain": [
       "(1000, 3)"
      ]
     },
     "execution_count": 5,
     "metadata": {},
     "output_type": "execute_result"
    }
   ],
   "source": [
    "df.shape"
   ]
  },
  {
   "cell_type": "code",
   "execution_count": 32,
   "id": "4231ecbd-60e7-43de-a81e-cfa211cb8d18",
   "metadata": {},
   "outputs": [],
   "source": [
    "df1 = df.head()"
   ]
  },
  {
   "cell_type": "code",
   "execution_count": 33,
   "id": "77f0dceb-0c65-4d25-848e-a62966d9d2af",
   "metadata": {},
   "outputs": [
    {
     "data": {
      "text/plain": [
       "<Axes: xlabel='cgpa', ylabel='placement_exam_marks'>"
      ]
     },
     "execution_count": 33,
     "metadata": {},
     "output_type": "execute_result"
    },
    {
     "data": {
      "image/png": "[encoded data removed]",
      "text/plain": [
       "<Figure size 640x480 with 1 Axes>"
      ]
     },
     "metadata": {},
     "output_type": "display_data"
    }
   ],
   "source": [
    "sns.scatterplot(x=df1['cgpa'],y=df1['placement_exam_marks'],hue=df1['placed'])"
   ]
  },
  {
   "cell_type": "code",
   "execution_count": 34,
   "id": "a3286509-82eb-4d38-9039-4b3e17ffe5ed",
   "metadata": {},
   "outputs": [],
   "source": [
    "x=df1.iloc[:,0:2]\n",
    "y=df1.iloc[:,-1]"
   ]
  },
  {
   "cell_type": "code",
   "execution_count": 35,
   "id": "4676303e-18ee-4dcc-a636-fd67f51a3450",
   "metadata": {},
   "outputs": [],
   "source": [
    "p = Perceptron()"
   ]
  },
  {
   "cell_type": "code",
   "execution_count": 36,
   "id": "d447d6af-9a46-4d26-95f2-e986f7591073",
   "metadata": {},
   "outputs": [
    {
     "data": {
      "text/html": [
       "<style>#sk-container-id-2 {color: black;background-color: white;}#sk-container-id-2 pre{padding: 0;}#sk-container-id-2 div.sk-toggleable {background-color: white;}#sk-container-id-2 label.sk-toggleable__label {cursor: pointer;display: block;width: 100%;margin-bottom: 0;padding: 0.3em;box-sizing: border-box;text-align: center;}#sk-container-id-2 label.sk-toggleable__label-arrow:before {content: \"▸\";float: left;margin-right: 0.25em;color: #696969;}#sk-container-id-2 label.sk-toggleable__label-arrow:hover:before {color: black;}#sk-container-id-2 div.sk-estimator:hover label.sk-toggleable__label-arrow:before {color: black;}#sk-container-id-2 div.sk-toggleable__content {max-height: 0;max-width: 0;overflow: hidden;text-align: left;background-color: #f0f8ff;}#sk-container-id-2 div.sk-toggleable__content pre {margin: 0.2em;color: black;border-radius: 0.25em;background-color: #f0f8ff;}#sk-container-id-2 input.sk-toggleable__control:checked~div.sk-toggleable__content {max-height: 200px;max-width: 100%;overflow: auto;}#sk-container-id-2 input.sk-toggleable__control:checked~label.sk-toggleable__label-arrow:before {content: \"▾\";}#sk-container-id-2 div.sk-estimator input.sk-toggleable__control:checked~label.sk-toggleable__label {background-color: #d4ebff;}#sk-container-id-2 div.sk-label input.sk-toggleable__control:checked~label.sk-toggleable__label {background-color: #d4ebff;}#sk-container-id-2 input.sk-hidden--visually {border: 0;clip: rect(1px 1px 1px 1px);clip: rect(1px, 1px, 1px, 1px);height: 1px;margin: -1px;overflow: hidden;padding: 0;position: absolute;width: 1px;}#sk-container-id-2 div.sk-estimator {font-family: monospace;background-color: #f0f8ff;border: 1px dotted black;border-radius: 0.25em;box-sizing: border-box;margin-bottom: 0.5em;}#sk-container-id-2 div.sk-estimator:hover {background-color: #d4ebff;}#sk-container-id-2 div.sk-parallel-item::after {content: \"\";width: 100%;border-bottom: 1px solid gray;flex-grow: 1;}#sk-container-id-2 div.sk-label:hover label.sk-toggleable__label {background-color: #d4ebff;}#sk-container-id-2 div.sk-serial::before {content: \"\";position: absolute;border-left: 1px solid gray;box-sizing: border-box;top: 0;bottom: 0;left: 50%;z-index: 0;}#sk-container-id-2 div.sk-serial {display: flex;flex-direction: column;align-items: center;background-color: white;padding-right: 0.2em;padding-left: 0.2em;position: relative;}#sk-container-id-2 div.sk-item {position: relative;z-index: 1;}#sk-container-id-2 div.sk-parallel {display: flex;align-items: stretch;justify-content: center;background-color: white;position: relative;}#sk-container-id-2 div.sk-item::before, #sk-container-id-2 div.sk-parallel-item::before {content: \"\";position: absolute;border-left: 1px solid gray;box-sizing: border-box;top: 0;bottom: 0;left: 50%;z-index: -1;}#sk-container-id-2 div.sk-parallel-item {display: flex;flex-direction: column;z-index: 1;position: relative;background-color: white;}#sk-container-id-2 div.sk-parallel-item:first-child::after {align-self: flex-end;width: 50%;}#sk-container-id-2 div.sk-parallel-item:last-child::after {align-self: flex-start;width: 50%;}#sk-container-id-2 div.sk-parallel-item:only-child::after {width: 0;}#sk-container-id-2 div.sk-dashed-wrapped {border: 1px dashed gray;margin: 0 0.4em 0.5em 0.4em;box-sizing: border-box;padding-bottom: 0.4em;background-color: white;}#sk-container-id-2 div.sk-label label {font-family: monospace;font-weight: bold;display: inline-block;line-height: 1.2em;}#sk-container-id-2 div.sk-label-container {text-align: center;}#sk-container-id-2 div.sk-container {/* jupyter's `normalize.less` sets `[hidden] { display: none; }` but bootstrap.min.css set `[hidden] { display: none !important; }` so we also need the `!important` here to be able to override the default hidden behavior on the sphinx rendered scikit-learn.org. See: https://github.com/scikit-learn/scikit-learn/issues/21755 */display: inline-block !important;position: relative;}#sk-container-id-2 div.sk-text-repr-fallback {display: none;}</style><div id=\"sk-container-id-2\" class=\"sk-top-container\"><div class=\"sk-text-repr-fallback\"><pre>Perceptron()</pre><b>In a Jupyter environment, please rerun this cell to show the HTML representation or trust the notebook. <br />On GitHub, the HTML representation is unable to render, please try loading this page with nbviewer.org.</b></div><div class=\"sk-container\" hidden><div class=\"sk-item\"><div class=\"sk-estimator sk-toggleable\"><input class=\"sk-toggleable__control sk-hidden--visually\" id=\"sk-estimator-id-2\" type=\"checkbox\" checked><label for=\"sk-estimator-id-2\" class=\"sk-toggleable__label sk-toggleable__label-arrow\">Perceptron</label><div class=\"sk-toggleable__content\"><pre>Perceptron()</pre></div></div></div></div></div>"
      ],
      "text/plain": [
       "Perceptron()"
      ]
     },
     "execution_count": 36,
     "metadata": {},
     "output_type": "execute_result"
    }
   ],
   "source": [
    "p.fit(x,y)"
   ]
  },
  {
   "cell_type": "code",
   "execution_count": 37,
   "id": "ddfb45d8-cfd4-4159-b5c5-0f9aa21528b5",
   "metadata": {},
   "outputs": [
    {
     "data": {
      "text/plain": [
       "array([[-29.65,  39.  ]])"
      ]
     },
     "execution_count": 37,
     "metadata": {},
     "output_type": "execute_result"
    }
   ],
   "source": [
    "p.coef_"
   ]
  },
  {
   "cell_type": "code",
   "execution_count": 38,
   "id": "4f827f9d-7400-4926-8a29-ea6593972247",
   "metadata": {},
   "outputs": [
    {
     "data": {
      "text/plain": [
       "array([-4.])"
      ]
     },
     "execution_count": 38,
     "metadata": {},
     "output_type": "execute_result"
    }
   ],
   "source": [
    "p.intercept_"
   ]
  },
  {
   "cell_type": "code",
   "execution_count": 39,
   "id": "f5fcdec9-3f3d-44b0-909c-ab4d46477f7b",
   "metadata": {},
   "outputs": [
    {
     "name": "stderr",
     "output_type": "stream",
     "text": [
      "C:\\Users\\amank\\anaconda3\\Lib\\site-packages\\sklearn\\base.py:439: UserWarning: X does not have valid feature names, but Perceptron was fitted with feature names\n",
      "  if type(self).__module__.startswith(\"sklearn.\"):\n"
     ]
    },
    {
     "data": {
      "text/plain": [
       "<Axes: >"
      ]
     },
     "execution_count": 39,
     "metadata": {},
     "output_type": "execute_result"
    },
    {
     "data": {
      "image/png": "[encoded data removed]",
      "text/plain": [
       "<Figure size 640x480 with 1 Axes>"
      ]
     },
     "metadata": {},
     "output_type": "display_data"
    }
   ],
   "source": [
    "plot_decision_regions(x.values,y.values,clf=p,legend=2)"
   ]
  },
  {
   "cell_type": "code",
   "execution_count": null,
   "id": "167d638c-fd98-48ac-8f73-806c3d0587c1",
   "metadata": {},
   "outputs": [],
   "source": []
  }
 ],
 "metadata": {
  "kernelspec": {
   "display_name": "Python 3 (ipykernel)",
   "language": "python",
   "name": "python3"
  },
  "language_info": {
   "codemirror_mode": {
    "name": "ipython",
    "version": 3
   },
   "file_extension": ".py",
   "mimetype": "text/x-python",
   "name": "python",
   "nbconvert_exporter": "python",
   "pygments_lexer": "ipython3",
   "version": "3.11.7"
  }
 },
 "nbformat": 4,
 "nbformat_minor": 5
}
