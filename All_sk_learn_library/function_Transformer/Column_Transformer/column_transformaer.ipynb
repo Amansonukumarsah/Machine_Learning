{
 "cells": [
  {
   "cell_type": "markdown",
   "id": "57bd68e7-1673-4295-bad6-2d9fb524148c",
   "metadata": {},
   "source": [
    "The ColumnTransformer is a tool in machine learning provided by Scikit-learn that allows you to apply different preprocessing techniques to specific columns of your dataset"
   ]
  },
  {
   "cell_type": "markdown",
   "id": "8205b40f-e8af-4745-b202-1df2f9dc7fa6",
   "metadata": {},
   "source": [
    "Apply scaling to numerical features :- StandardScaler,OrdinalEncoder(categorical to numerical)\n",
    "Apply encoding to categorical features.:- OneHotEncoder"
   ]
  },
  {
   "cell_type": "code",
   "execution_count": 34,
   "id": "96654cdc-0f2a-4af8-8a7d-b1136b481533",
   "metadata": {},
   "outputs": [],
   "source": [
    "# The SimpleImputer is a preprocessing tool in Scikit-learn used to handle missing data in a dataset. It provides an easy way to fill (impute) missing values with a specified strategy, \n",
    "# such as replacing them with the mean, median, mode (most frequent value), or a constant value."
   ]
  },
  {
   "cell_type": "code",
   "execution_count": 2,
   "id": "f62db393-3c91-4465-b9c2-4671eaad62c8",
   "metadata": {},
   "outputs": [],
   "source": [
    "import pandas as pd\n",
    "import numpy as np\n",
    "from sklearn.impute import SimpleImputer\n",
    "from sklearn.preprocessing import OneHotEncoder\n",
    "from sklearn.preprocessing import OrdinalEncoder"
   ]
  },
  {
   "cell_type": "code",
   "execution_count": 3,
   "id": "7551e19b-a29c-4dc2-8585-2d5d0dbe6993",
   "metadata": {},
   "outputs": [],
   "source": [
    "df = pd.read_csv('covid_toy.csv')"
   ]
  },
  {
   "cell_type": "code",
   "execution_count": 4,
   "id": "1d516d1c-8ebf-4c6a-85c4-79bd8e1707c5",
   "metadata": {},
   "outputs": [
    {
     "data": {
      "text/html": [
       "<div>\n",
       "<style scoped>\n",
       "    .dataframe tbody tr th:only-of-type {\n",
       "        vertical-align: middle;\n",
       "    }\n",
       "\n",
       "    .dataframe tbody tr th {\n",
       "        vertical-align: top;\n",
       "    }\n",
       "\n",
       "    .dataframe thead th {\n",
       "        text-align: right;\n",
       "    }\n",
       "</style>\n",
       "<table border=\"1\" class=\"dataframe\">\n",
       "  <thead>\n",
       "    <tr style=\"text-align: right;\">\n",
       "      <th></th>\n",
       "      <th>age</th>\n",
       "      <th>gender</th>\n",
       "      <th>fever</th>\n",
       "      <th>cough</th>\n",
       "      <th>city</th>\n",
       "      <th>has_covid</th>\n",
       "    </tr>\n",
       "  </thead>\n",
       "  <tbody>\n",
       "    <tr>\n",
       "      <th>0</th>\n",
       "      <td>60</td>\n",
       "      <td>Male</td>\n",
       "      <td>103.0</td>\n",
       "      <td>Mild</td>\n",
       "      <td>Kolkata</td>\n",
       "      <td>No</td>\n",
       "    </tr>\n",
       "    <tr>\n",
       "      <th>1</th>\n",
       "      <td>27</td>\n",
       "      <td>Male</td>\n",
       "      <td>100.0</td>\n",
       "      <td>Mild</td>\n",
       "      <td>Delhi</td>\n",
       "      <td>Yes</td>\n",
       "    </tr>\n",
       "    <tr>\n",
       "      <th>2</th>\n",
       "      <td>42</td>\n",
       "      <td>Male</td>\n",
       "      <td>101.0</td>\n",
       "      <td>Mild</td>\n",
       "      <td>Delhi</td>\n",
       "      <td>No</td>\n",
       "    </tr>\n",
       "    <tr>\n",
       "      <th>3</th>\n",
       "      <td>31</td>\n",
       "      <td>Female</td>\n",
       "      <td>98.0</td>\n",
       "      <td>Mild</td>\n",
       "      <td>Kolkata</td>\n",
       "      <td>No</td>\n",
       "    </tr>\n",
       "    <tr>\n",
       "      <th>4</th>\n",
       "      <td>65</td>\n",
       "      <td>Female</td>\n",
       "      <td>101.0</td>\n",
       "      <td>Mild</td>\n",
       "      <td>Mumbai</td>\n",
       "      <td>No</td>\n",
       "    </tr>\n",
       "    <tr>\n",
       "      <th>...</th>\n",
       "      <td>...</td>\n",
       "      <td>...</td>\n",
       "      <td>...</td>\n",
       "      <td>...</td>\n",
       "      <td>...</td>\n",
       "      <td>...</td>\n",
       "    </tr>\n",
       "    <tr>\n",
       "      <th>95</th>\n",
       "      <td>12</td>\n",
       "      <td>Female</td>\n",
       "      <td>104.0</td>\n",
       "      <td>Mild</td>\n",
       "      <td>Bangalore</td>\n",
       "      <td>No</td>\n",
       "    </tr>\n",
       "    <tr>\n",
       "      <th>96</th>\n",
       "      <td>51</td>\n",
       "      <td>Female</td>\n",
       "      <td>101.0</td>\n",
       "      <td>Strong</td>\n",
       "      <td>Kolkata</td>\n",
       "      <td>Yes</td>\n",
       "    </tr>\n",
       "    <tr>\n",
       "      <th>97</th>\n",
       "      <td>20</td>\n",
       "      <td>Female</td>\n",
       "      <td>101.0</td>\n",
       "      <td>Mild</td>\n",
       "      <td>Bangalore</td>\n",
       "      <td>No</td>\n",
       "    </tr>\n",
       "    <tr>\n",
       "      <th>98</th>\n",
       "      <td>5</td>\n",
       "      <td>Female</td>\n",
       "      <td>98.0</td>\n",
       "      <td>Strong</td>\n",
       "      <td>Mumbai</td>\n",
       "      <td>No</td>\n",
       "    </tr>\n",
       "    <tr>\n",
       "      <th>99</th>\n",
       "      <td>10</td>\n",
       "      <td>Female</td>\n",
       "      <td>98.0</td>\n",
       "      <td>Strong</td>\n",
       "      <td>Kolkata</td>\n",
       "      <td>Yes</td>\n",
       "    </tr>\n",
       "  </tbody>\n",
       "</table>\n",
       "<p>100 rows × 6 columns</p>\n",
       "</div>"
      ],
      "text/plain": [
       "    age  gender  fever   cough       city has_covid\n",
       "0    60    Male  103.0    Mild    Kolkata        No\n",
       "1    27    Male  100.0    Mild      Delhi       Yes\n",
       "2    42    Male  101.0    Mild      Delhi        No\n",
       "3    31  Female   98.0    Mild    Kolkata        No\n",
       "4    65  Female  101.0    Mild     Mumbai        No\n",
       "..  ...     ...    ...     ...        ...       ...\n",
       "95   12  Female  104.0    Mild  Bangalore        No\n",
       "96   51  Female  101.0  Strong    Kolkata       Yes\n",
       "97   20  Female  101.0    Mild  Bangalore        No\n",
       "98    5  Female   98.0  Strong     Mumbai        No\n",
       "99   10  Female   98.0  Strong    Kolkata       Yes\n",
       "\n",
       "[100 rows x 6 columns]"
      ]
     },
     "execution_count": 4,
     "metadata": {},
     "output_type": "execute_result"
    }
   ],
   "source": [
    "df"
   ]
  },
  {
   "cell_type": "code",
   "execution_count": 6,
   "id": "01094cff-b6f9-41d2-b469-2c4e861f4ac9",
   "metadata": {},
   "outputs": [
    {
     "data": {
      "text/plain": [
       "age           0\n",
       "gender        0\n",
       "fever        10\n",
       "cough         0\n",
       "city          0\n",
       "has_covid     0\n",
       "dtype: int64"
      ]
     },
     "execution_count": 6,
     "metadata": {},
     "output_type": "execute_result"
    }
   ],
   "source": [
    "df.isnull().sum()"
   ]
  },
  {
   "cell_type": "code",
   "execution_count": 7,
   "id": "80412a40-a4fe-45c8-96c6-3aa617ae005f",
   "metadata": {},
   "outputs": [],
   "source": [
    "from sklearn.model_selection import train_test_split\n",
    "x_train,x_test,y_train,y_test = train_test_split(df.drop(columns=['has_covid']),df['has_covid'],test_size=0.2)"
   ]
  },
  {
   "cell_type": "code",
   "execution_count": 11,
   "id": "c7a3a84e-93a6-465d-a8ad-2914bf952aeb",
   "metadata": {},
   "outputs": [
    {
     "data": {
      "text/plain": [
       "8      No\n",
       "43    Yes\n",
       "45     No\n",
       "21    Yes\n",
       "88     No\n",
       "42    Yes\n",
       "5     Yes\n",
       "25     No\n",
       "20     No\n",
       "85    Yes\n",
       "35     No\n",
       "46     No\n",
       "95     No\n",
       "34    Yes\n",
       "24     No\n",
       "56     No\n",
       "59    Yes\n",
       "79    Yes\n",
       "32    Yes\n",
       "23    Yes\n",
       "Name: has_covid, dtype: object"
      ]
     },
     "execution_count": 11,
     "metadata": {},
     "output_type": "execute_result"
    }
   ],
   "source": [
    "y_test"
   ]
  },
  {
   "cell_type": "markdown",
   "id": "a6c6ddc6-76b5-43aa-b00b-278492110ce4",
   "metadata": {},
   "source": [
    "NORMLA_WAY"
   ]
  },
  {
   "cell_type": "markdown",
   "id": "9b36cecc-d6af-44ce-bcaa-3e2777aba470",
   "metadata": {},
   "source": [
    "# Both OrdinalEncoder and OneHotEncoder are preprocessing tools in Scikit-learn used to transform categorical data into numerical format. \n",
    "# However, they serve different purposes and are used in different scenarios"
   ]
  },
  {
   "cell_type": "code",
   "execution_count": 40,
   "id": "2175fd1d-16bd-4945-a1a6-168f84544756",
   "metadata": {},
   "outputs": [],
   "source": [
    "# use the SimpleImputer to remove the null value in age with their mean,median,mode value\n",
    "si =SimpleImputer()\n",
    "x_train_fever = si.fit_transform(x_train[['fever']])\n",
    "\n",
    "x_test_fever = si.fit_transform(x_test[['fever']])\n",
    "\n",
    "# x_train_si"
   ]
  },
  {
   "cell_type": "code",
   "execution_count": 27,
   "id": "8619ee87-d04e-4d55-9401-ab37519f4827",
   "metadata": {},
   "outputs": [],
   "source": [
    "# Initialize the OrdinalEncoder with specified category order\n",
    "oe = OrdinalEncoder(categories=[['Mild', 'Strong']])\n",
    "# Fit and transform the 'cough' column in the training set\n",
    "x_train_cough = oe.fit_transform(x_train[['cough']])\n",
    "# Transform the 'cough' column in the test set using the already-fitted encoder\n",
    "x_test_cough = oe.transform(x_test[['cough']])"
   ]
  },
  {
   "cell_type": "markdown",
   "id": "c6bad0e2-e197-4cdb-b522-94721edc855c",
   "metadata": {},
   "source": [
    "# OneHotEncoding -> gender,city"
   ]
  },
  {
   "cell_type": "code",
   "execution_count": 32,
   "id": "78c5b28c-9256-4460-bbd8-ed61e90b8c86",
   "metadata": {},
   "outputs": [
    {
     "name": "stderr",
     "output_type": "stream",
     "text": [
      "C:\\Users\\amank\\anaconda3\\Lib\\site-packages\\sklearn\\preprocessing\\_encoders.py:868: FutureWarning: `sparse` was renamed to `sparse_output` in version 1.2 and will be removed in 1.4. `sparse_output` is ignored unless you leave `sparse` to its default value.\n",
      "  warnings.warn(\n",
      "C:\\Users\\amank\\anaconda3\\Lib\\site-packages\\sklearn\\preprocessing\\_encoders.py:868: FutureWarning: `sparse` was renamed to `sparse_output` in version 1.2 and will be removed in 1.4. `sparse_output` is ignored unless you leave `sparse` to its default value.\n",
      "  warnings.warn(\n"
     ]
    },
    {
     "data": {
      "text/plain": [
       "(80, 4)"
      ]
     },
     "execution_count": 32,
     "metadata": {},
     "output_type": "execute_result"
    }
   ],
   "source": [
    "ohe = OneHotEncoder(drop='first',sparse=False)\n",
    "x_train_gender_city = ohe.fit_transform(x_train[['gender','city']])\n",
    "\n",
    "# also the test data\n",
    "x_test_gender_city = ohe.fit_transform(x_test[['gender','city']])\n",
    "\n",
    "x_train_gender_city.shape"
   ]
  },
  {
   "cell_type": "markdown",
   "id": "05808c78-5a86-414f-9a87-4a58b1a7b4be",
   "metadata": {},
   "source": [
    "<!-- Extract Age -->"
   ]
  },
  {
   "cell_type": "markdown",
   "id": "3d42c93f-bb31-4d39-a031-a63a12243708",
   "metadata": {},
   "source": [
    "# Extract Age"
   ]
  },
  {
   "cell_type": "code",
   "execution_count": 36,
   "id": "6701f501-5273-4961-a021-abf3588b9ea6",
   "metadata": {},
   "outputs": [
    {
     "data": {
      "text/plain": [
       "(80, 1)"
      ]
     },
     "execution_count": 36,
     "metadata": {},
     "output_type": "execute_result"
    }
   ],
   "source": [
    "x_train_age = x_train.drop(columns=['gender','fever','cough','city']).values\n",
    "\n",
    "# also the test data\n",
    "x_test_age = x_test.drop(columns=['gender','fever','cough','city']).values\n",
    "\n",
    "x_train_age.shape"
   ]
  },
  {
   "cell_type": "markdown",
   "id": "bd3fa31f-e341-434c-a77a-70977f7496e9",
   "metadata": {},
   "source": [
    "# concat all "
   ]
  },
  {
   "cell_type": "code",
   "execution_count": 41,
   "id": "bd80a155-07bd-4f8b-896a-536c44245729",
   "metadata": {},
   "outputs": [
    {
     "data": {
      "text/plain": [
       "(80, 7)"
      ]
     },
     "execution_count": 41,
     "metadata": {},
     "output_type": "execute_result"
    }
   ],
   "source": [
    "x_train_transformed = np.concatenate((x_train_age,x_train_fever,x_train_gender_city,x_train_cough),axis=1)\n",
    "# also the test data\n",
    "# x_test_transformed = np.concatenate((x_test_age,x_test_fever,x_test_gender_city,x_test_cough),axis=1)\n",
    "\n",
    "x_train_transformed.shape"
   ]
  },
  {
   "cell_type": "code",
   "execution_count": null,
   "id": "0b30e287-9ae8-43af-99ea-eaff2e0b52d1",
   "metadata": {},
   "outputs": [],
   "source": []
  }
 ],
 "metadata": {
  "kernelspec": {
   "display_name": "Python 3 (ipykernel)",
   "language": "python",
   "name": "python3"
  },
  "language_info": {
   "codemirror_mode": {
    "name": "ipython",
    "version": 3
   },
   "file_extension": ".py",
   "mimetype": "text/x-python",
   "name": "python",
   "nbconvert_exporter": "python",
   "pygments_lexer": "ipython3",
   "version": "3.11.7"
  }
 },
 "nbformat": 4,
 "nbformat_minor": 5
}
