{
 "cells": [
  {
   "cell_type": "markdown",
   "id": "57bd68e7-1673-4295-bad6-2d9fb524148c",
   "metadata": {},
   "source": [
    "The ColumnTransformer is a tool in machine learning provided by Scikit-learn that allows you to apply different preprocessing techniques to specific columns of your dataset"
   ]
  },
  {
   "cell_type": "markdown",
   "id": "8205b40f-e8af-4745-b202-1df2f9dc7fa6",
   "metadata": {},
   "source": [
    "Apply scaling to numerical features :- StandardScaler,OrdinalEncoder(categorical to numerical)\n",
    "Apply encoding to categorical features.:- OneHotEncoder"
   ]
  },
  {
   "cell_type": "code",
   "execution_count": 34,
   "id": "96654cdc-0f2a-4af8-8a7d-b1136b481533",
   "metadata": {},
   "outputs": [],
   "source": [
    "# The SimpleImputer is a preprocessing tool in Scikit-learn used to handle missing data in a dataset. It provides an easy way to fill (impute) missing values with a specified strategy, \n",
    "# such as replacing them with the mean, median, mode (most frequent value), or a constant value."
   ]
  },
  {
   "cell_type": "code",
   "execution_count": 5,
   "id": "f62db393-3c91-4465-b9c2-4671eaad62c8",
   "metadata": {},
   "outputs": [],
   "source": [
    "import pandas as pd\n",
    "import numpy as np\n",
    "from sklearn.impute import SimpleImputer\n",
    "from sklearn.preprocessing import OneHotEncoder\n",
    "from sklearn.preprocessing import OrdinalEncoder"
   ]
  },
  {
   "cell_type": "code",
   "execution_count": 6,
   "id": "7551e19b-a29c-4dc2-8585-2d5d0dbe6993",
   "metadata": {},
   "outputs": [],
   "source": [
    "df = pd.read_csv('covid_toy.csv')"
   ]
  },
  {
   "cell_type": "code",
   "execution_count": 7,
   "id": "1d516d1c-8ebf-4c6a-85c4-79bd8e1707c5",
   "metadata": {},
   "outputs": [
    {
     "data": {
      "text/html": [
       "<div>\n",
       "<style scoped>\n",
       "    .dataframe tbody tr th:only-of-type {\n",
       "        vertical-align: middle;\n",
       "    }\n",
       "\n",
       "    .dataframe tbody tr th {\n",
       "        vertical-align: top;\n",
       "    }\n",
       "\n",
       "    .dataframe thead th {\n",
       "        text-align: right;\n",
       "    }\n",
       "</style>\n",
       "<table border=\"1\" class=\"dataframe\">\n",
       "  <thead>\n",
       "    <tr style=\"text-align: right;\">\n",
       "      <th></th>\n",
       "      <th>age</th>\n",
       "      <th>gender</th>\n",
       "      <th>fever</th>\n",
       "      <th>cough</th>\n",
       "      <th>city</th>\n",
       "      <th>has_covid</th>\n",
       "    </tr>\n",
       "  </thead>\n",
       "  <tbody>\n",
       "    <tr>\n",
       "      <th>0</th>\n",
       "      <td>60</td>\n",
       "      <td>Male</td>\n",
       "      <td>103.0</td>\n",
       "      <td>Mild</td>\n",
       "      <td>Kolkata</td>\n",
       "      <td>No</td>\n",
       "    </tr>\n",
       "    <tr>\n",
       "      <th>1</th>\n",
       "      <td>27</td>\n",
       "      <td>Male</td>\n",
       "      <td>100.0</td>\n",
       "      <td>Mild</td>\n",
       "      <td>Delhi</td>\n",
       "      <td>Yes</td>\n",
       "    </tr>\n",
       "    <tr>\n",
       "      <th>2</th>\n",
       "      <td>42</td>\n",
       "      <td>Male</td>\n",
       "      <td>101.0</td>\n",
       "      <td>Mild</td>\n",
       "      <td>Delhi</td>\n",
       "      <td>No</td>\n",
       "    </tr>\n",
       "    <tr>\n",
       "      <th>3</th>\n",
       "      <td>31</td>\n",
       "      <td>Female</td>\n",
       "      <td>98.0</td>\n",
       "      <td>Mild</td>\n",
       "      <td>Kolkata</td>\n",
       "      <td>No</td>\n",
       "    </tr>\n",
       "    <tr>\n",
       "      <th>4</th>\n",
       "      <td>65</td>\n",
       "      <td>Female</td>\n",
       "      <td>101.0</td>\n",
       "      <td>Mild</td>\n",
       "      <td>Mumbai</td>\n",
       "      <td>No</td>\n",
       "    </tr>\n",
       "    <tr>\n",
       "      <th>...</th>\n",
       "      <td>...</td>\n",
       "      <td>...</td>\n",
       "      <td>...</td>\n",
       "      <td>...</td>\n",
       "      <td>...</td>\n",
       "      <td>...</td>\n",
       "    </tr>\n",
       "    <tr>\n",
       "      <th>95</th>\n",
       "      <td>12</td>\n",
       "      <td>Female</td>\n",
       "      <td>104.0</td>\n",
       "      <td>Mild</td>\n",
       "      <td>Bangalore</td>\n",
       "      <td>No</td>\n",
       "    </tr>\n",
       "    <tr>\n",
       "      <th>96</th>\n",
       "      <td>51</td>\n",
       "      <td>Female</td>\n",
       "      <td>101.0</td>\n",
       "      <td>Strong</td>\n",
       "      <td>Kolkata</td>\n",
       "      <td>Yes</td>\n",
       "    </tr>\n",
       "    <tr>\n",
       "      <th>97</th>\n",
       "      <td>20</td>\n",
       "      <td>Female</td>\n",
       "      <td>101.0</td>\n",
       "      <td>Mild</td>\n",
       "      <td>Bangalore</td>\n",
       "      <td>No</td>\n",
       "    </tr>\n",
       "    <tr>\n",
       "      <th>98</th>\n",
       "      <td>5</td>\n",
       "      <td>Female</td>\n",
       "      <td>98.0</td>\n",
       "      <td>Strong</td>\n",
       "      <td>Mumbai</td>\n",
       "      <td>No</td>\n",
       "    </tr>\n",
       "    <tr>\n",
       "      <th>99</th>\n",
       "      <td>10</td>\n",
       "      <td>Female</td>\n",
       "      <td>98.0</td>\n",
       "      <td>Strong</td>\n",
       "      <td>Kolkata</td>\n",
       "      <td>Yes</td>\n",
       "    </tr>\n",
       "  </tbody>\n",
       "</table>\n",
       "<p>100 rows × 6 columns</p>\n",
       "</div>"
      ],
      "text/plain": [
       "    age  gender  fever   cough       city has_covid\n",
       "0    60    Male  103.0    Mild    Kolkata        No\n",
       "1    27    Male  100.0    Mild      Delhi       Yes\n",
       "2    42    Male  101.0    Mild      Delhi        No\n",
       "3    31  Female   98.0    Mild    Kolkata        No\n",
       "4    65  Female  101.0    Mild     Mumbai        No\n",
       "..  ...     ...    ...     ...        ...       ...\n",
       "95   12  Female  104.0    Mild  Bangalore        No\n",
       "96   51  Female  101.0  Strong    Kolkata       Yes\n",
       "97   20  Female  101.0    Mild  Bangalore        No\n",
       "98    5  Female   98.0  Strong     Mumbai        No\n",
       "99   10  Female   98.0  Strong    Kolkata       Yes\n",
       "\n",
       "[100 rows x 6 columns]"
      ]
     },
     "execution_count": 7,
     "metadata": {},
     "output_type": "execute_result"
    }
   ],
   "source": [
    "df"
   ]
  },
  {
   "cell_type": "code",
   "execution_count": 8,
   "id": "01094cff-b6f9-41d2-b469-2c4e861f4ac9",
   "metadata": {},
   "outputs": [
    {
     "data": {
      "text/plain": [
       "age           0\n",
       "gender        0\n",
       "fever        10\n",
       "cough         0\n",
       "city          0\n",
       "has_covid     0\n",
       "dtype: int64"
      ]
     },
     "execution_count": 8,
     "metadata": {},
     "output_type": "execute_result"
    }
   ],
   "source": [
    "df.isnull().sum()"
   ]
  },
  {
   "cell_type": "code",
   "execution_count": 9,
   "id": "80412a40-a4fe-45c8-96c6-3aa617ae005f",
   "metadata": {},
   "outputs": [],
   "source": [
    "from sklearn.model_selection import train_test_split\n",
    "x_train,x_test,y_train,y_test = train_test_split(df.drop(columns=['has_covid']),df['has_covid'],test_size=0.2)"
   ]
  },
  {
   "cell_type": "code",
   "execution_count": 10,
   "id": "c7a3a84e-93a6-465d-a8ad-2914bf952aeb",
   "metadata": {},
   "outputs": [
    {
     "data": {
      "text/plain": [
       "25     No\n",
       "65     No\n",
       "80    Yes\n",
       "62    Yes\n",
       "11    Yes\n",
       "69     No\n",
       "34    Yes\n",
       "60    Yes\n",
       "22    Yes\n",
       "12     No\n",
       "46     No\n",
       "98     No\n",
       "85    Yes\n",
       "29    Yes\n",
       "61     No\n",
       "88     No\n",
       "38    Yes\n",
       "6      No\n",
       "9      No\n",
       "95     No\n",
       "Name: has_covid, dtype: object"
      ]
     },
     "execution_count": 10,
     "metadata": {},
     "output_type": "execute_result"
    }
   ],
   "source": [
    "y_test"
   ]
  },
  {
   "cell_type": "markdown",
   "id": "a6c6ddc6-76b5-43aa-b00b-278492110ce4",
   "metadata": {},
   "source": [
    "NORMLA_WAY"
   ]
  },
  {
   "cell_type": "markdown",
   "id": "9b36cecc-d6af-44ce-bcaa-3e2777aba470",
   "metadata": {},
   "source": [
    "# Both OrdinalEncoder and OneHotEncoder are preprocessing tools in Scikit-learn used to transform categorical data into numerical format. \n",
    "# However, they serve different purposes and are used in different scenarios"
   ]
  },
  {
   "cell_type": "code",
   "execution_count": 23,
   "id": "2175fd1d-16bd-4945-a1a6-168f84544756",
   "metadata": {},
   "outputs": [],
   "source": [
    "# use the SimpleImputer to remove the null value in age with their mean,median,mode value\n",
    "si =SimpleImputer()\n",
    "x_train_fever = si.fit_transform(x_train[['fever']])\n",
    "\n",
    "x_test_fever = si.fit_transform(x_test[['fever']])\n",
    "\n",
    "# x_train_si"
   ]
  },
  {
   "cell_type": "code",
   "execution_count": 24,
   "id": "8619ee87-d04e-4d55-9401-ab37519f4827",
   "metadata": {},
   "outputs": [],
   "source": [
    "# Initialize the OrdinalEncoder with specified category order\n",
    "oe = OrdinalEncoder(categories=[['Mild', 'Strong']])\n",
    "# Fit and transform the 'cough' column in the training set\n",
    "x_train_cough = oe.fit_transform(x_train[['cough']])\n",
    "# Transform the 'cough' column in the test set using the already-fitted encoder\n",
    "x_test_cough = oe.transform(x_test[['cough']])"
   ]
  },
  {
   "cell_type": "markdown",
   "id": "c6bad0e2-e197-4cdb-b522-94721edc855c",
   "metadata": {},
   "source": [
    "# OneHotEncoding -> gender,city"
   ]
  },
  {
   "cell_type": "code",
   "execution_count": 25,
   "id": "78c5b28c-9256-4460-bbd8-ed61e90b8c86",
   "metadata": {},
   "outputs": [
    {
     "name": "stderr",
     "output_type": "stream",
     "text": [
      "C:\\Users\\amank\\anaconda3\\Lib\\site-packages\\sklearn\\preprocessing\\_encoders.py:868: FutureWarning: `sparse` was renamed to `sparse_output` in version 1.2 and will be removed in 1.4. `sparse_output` is ignored unless you leave `sparse` to its default value.\n",
      "  warnings.warn(\n",
      "C:\\Users\\amank\\anaconda3\\Lib\\site-packages\\sklearn\\preprocessing\\_encoders.py:868: FutureWarning: `sparse` was renamed to `sparse_output` in version 1.2 and will be removed in 1.4. `sparse_output` is ignored unless you leave `sparse` to its default value.\n",
      "  warnings.warn(\n"
     ]
    },
    {
     "data": {
      "text/plain": [
       "(80, 4)"
      ]
     },
     "execution_count": 25,
     "metadata": {},
     "output_type": "execute_result"
    }
   ],
   "source": [
    "ohe = OneHotEncoder(drop='first',sparse=False)\n",
    "x_train_gender_city = ohe.fit_transform(x_train[['gender','city']])\n",
    "\n",
    "# also the test data\n",
    "x_test_gender_city = ohe.fit_transform(x_test[['gender','city']])\n",
    "\n",
    "x_train_gender_city.shape"
   ]
  },
  {
   "cell_type": "markdown",
   "id": "05808c78-5a86-414f-9a87-4a58b1a7b4be",
   "metadata": {},
   "source": [
    "<!-- Extract Age -->"
   ]
  },
  {
   "cell_type": "markdown",
   "id": "3d42c93f-bb31-4d39-a031-a63a12243708",
   "metadata": {},
   "source": [
    "# Extract Age"
   ]
  },
  {
   "cell_type": "code",
   "execution_count": 26,
   "id": "6701f501-5273-4961-a021-abf3588b9ea6",
   "metadata": {},
   "outputs": [
    {
     "data": {
      "text/plain": [
       "(80, 1)"
      ]
     },
     "execution_count": 26,
     "metadata": {},
     "output_type": "execute_result"
    }
   ],
   "source": [
    "x_train_age = x_train.drop(columns=['gender','fever','cough','city']).values\n",
    "\n",
    "# also the test data\n",
    "x_test_age = x_test.drop(columns=['gender','fever','cough','city']).values\n",
    "\n",
    "x_train_age.shape"
   ]
  },
  {
   "cell_type": "markdown",
   "id": "bd3fa31f-e341-434c-a77a-70977f7496e9",
   "metadata": {},
   "source": [
    "# concat all "
   ]
  },
  {
   "cell_type": "code",
   "execution_count": 27,
   "id": "bd80a155-07bd-4f8b-896a-536c44245729",
   "metadata": {},
   "outputs": [
    {
     "data": {
      "text/plain": [
       "(80, 7)"
      ]
     },
     "execution_count": 27,
     "metadata": {},
     "output_type": "execute_result"
    }
   ],
   "source": [
    "x_train_transformed = np.concatenate((x_train_age,x_train_fever,x_train_gender_city,x_train_cough),axis=1)\n",
    "# also the test data\n",
    "# x_test_transformed = np.concatenate((x_test_age,x_test_fever,x_test_gender_city,x_test_cough),axis=1)\n",
    "\n",
    "x_train_transformed.shape"
   ]
  },
  {
   "cell_type": "markdown",
   "id": "21a58a66-1350-4fc8-922a-3748316e970d",
   "metadata": {},
   "source": [
    "# MENTOS ZINDAGI"
   ]
  },
  {
   "cell_type": "code",
   "execution_count": 28,
   "id": "cb750de3-585e-46e2-8ee8-828aa52524e4",
   "metadata": {},
   "outputs": [],
   "source": [
    "from sklearn.compose import ColumnTransformer"
   ]
  },
  {
   "cell_type": "code",
   "execution_count": 29,
   "id": "a400cb53-3d86-42ee-bbd2-0b30d3e8bcfe",
   "metadata": {},
   "outputs": [],
   "source": [
    "transformer = ColumnTransformer(transformers=[\n",
    "    ('tn1',SimpleImputer(),['fever']),\n",
    "    ('tn2',OrdinalEncoder(categories=[['Mild','Strong']]),['cough']),\n",
    "    ('tn3',OneHotEncoder(sparse=False,drop='first'),['gender','city'])\n",
    "],remainder='passthrough')"
   ]
  },
  {
   "cell_type": "code",
   "execution_count": 30,
   "id": "373f2847-38fa-47d8-bbf7-fc8c34afdcf2",
   "metadata": {},
   "outputs": [
    {
     "data": {
      "text/html": [
       "<style>#sk-container-id-2 {color: black;background-color: white;}#sk-container-id-2 pre{padding: 0;}#sk-container-id-2 div.sk-toggleable {background-color: white;}#sk-container-id-2 label.sk-toggleable__label {cursor: pointer;display: block;width: 100%;margin-bottom: 0;padding: 0.3em;box-sizing: border-box;text-align: center;}#sk-container-id-2 label.sk-toggleable__label-arrow:before {content: \"▸\";float: left;margin-right: 0.25em;color: #696969;}#sk-container-id-2 label.sk-toggleable__label-arrow:hover:before {color: black;}#sk-container-id-2 div.sk-estimator:hover label.sk-toggleable__label-arrow:before {color: black;}#sk-container-id-2 div.sk-toggleable__content {max-height: 0;max-width: 0;overflow: hidden;text-align: left;background-color: #f0f8ff;}#sk-container-id-2 div.sk-toggleable__content pre {margin: 0.2em;color: black;border-radius: 0.25em;background-color: #f0f8ff;}#sk-container-id-2 input.sk-toggleable__control:checked~div.sk-toggleable__content {max-height: 200px;max-width: 100%;overflow: auto;}#sk-container-id-2 input.sk-toggleable__control:checked~label.sk-toggleable__label-arrow:before {content: \"▾\";}#sk-container-id-2 div.sk-estimator input.sk-toggleable__control:checked~label.sk-toggleable__label {background-color: #d4ebff;}#sk-container-id-2 div.sk-label input.sk-toggleable__control:checked~label.sk-toggleable__label {background-color: #d4ebff;}#sk-container-id-2 input.sk-hidden--visually {border: 0;clip: rect(1px 1px 1px 1px);clip: rect(1px, 1px, 1px, 1px);height: 1px;margin: -1px;overflow: hidden;padding: 0;position: absolute;width: 1px;}#sk-container-id-2 div.sk-estimator {font-family: monospace;background-color: #f0f8ff;border: 1px dotted black;border-radius: 0.25em;box-sizing: border-box;margin-bottom: 0.5em;}#sk-container-id-2 div.sk-estimator:hover {background-color: #d4ebff;}#sk-container-id-2 div.sk-parallel-item::after {content: \"\";width: 100%;border-bottom: 1px solid gray;flex-grow: 1;}#sk-container-id-2 div.sk-label:hover label.sk-toggleable__label {background-color: #d4ebff;}#sk-container-id-2 div.sk-serial::before {content: \"\";position: absolute;border-left: 1px solid gray;box-sizing: border-box;top: 0;bottom: 0;left: 50%;z-index: 0;}#sk-container-id-2 div.sk-serial {display: flex;flex-direction: column;align-items: center;background-color: white;padding-right: 0.2em;padding-left: 0.2em;position: relative;}#sk-container-id-2 div.sk-item {position: relative;z-index: 1;}#sk-container-id-2 div.sk-parallel {display: flex;align-items: stretch;justify-content: center;background-color: white;position: relative;}#sk-container-id-2 div.sk-item::before, #sk-container-id-2 div.sk-parallel-item::before {content: \"\";position: absolute;border-left: 1px solid gray;box-sizing: border-box;top: 0;bottom: 0;left: 50%;z-index: -1;}#sk-container-id-2 div.sk-parallel-item {display: flex;flex-direction: column;z-index: 1;position: relative;background-color: white;}#sk-container-id-2 div.sk-parallel-item:first-child::after {align-self: flex-end;width: 50%;}#sk-container-id-2 div.sk-parallel-item:last-child::after {align-self: flex-start;width: 50%;}#sk-container-id-2 div.sk-parallel-item:only-child::after {width: 0;}#sk-container-id-2 div.sk-dashed-wrapped {border: 1px dashed gray;margin: 0 0.4em 0.5em 0.4em;box-sizing: border-box;padding-bottom: 0.4em;background-color: white;}#sk-container-id-2 div.sk-label label {font-family: monospace;font-weight: bold;display: inline-block;line-height: 1.2em;}#sk-container-id-2 div.sk-label-container {text-align: center;}#sk-container-id-2 div.sk-container {/* jupyter's `normalize.less` sets `[hidden] { display: none; }` but bootstrap.min.css set `[hidden] { display: none !important; }` so we also need the `!important` here to be able to override the default hidden behavior on the sphinx rendered scikit-learn.org. See: https://github.com/scikit-learn/scikit-learn/issues/21755 */display: inline-block !important;position: relative;}#sk-container-id-2 div.sk-text-repr-fallback {display: none;}</style><div id=\"sk-container-id-2\" class=\"sk-top-container\"><div class=\"sk-text-repr-fallback\"><pre>ColumnTransformer(remainder=&#x27;passthrough&#x27;,\n",
       "                  transformers=[(&#x27;tn1&#x27;, SimpleImputer(), [&#x27;fever&#x27;]),\n",
       "                                (&#x27;tn2&#x27;,\n",
       "                                 OrdinalEncoder(categories=[[&#x27;Mild&#x27;,\n",
       "                                                             &#x27;Strong&#x27;]]),\n",
       "                                 [&#x27;cough&#x27;]),\n",
       "                                (&#x27;tn3&#x27;,\n",
       "                                 OneHotEncoder(drop=&#x27;first&#x27;, sparse=False),\n",
       "                                 [&#x27;gender&#x27;, &#x27;city&#x27;])])</pre><b>In a Jupyter environment, please rerun this cell to show the HTML representation or trust the notebook. <br />On GitHub, the HTML representation is unable to render, please try loading this page with nbviewer.org.</b></div><div class=\"sk-container\" hidden><div class=\"sk-item sk-dashed-wrapped\"><div class=\"sk-label-container\"><div class=\"sk-label sk-toggleable\"><input class=\"sk-toggleable__control sk-hidden--visually\" id=\"sk-estimator-id-10\" type=\"checkbox\" ><label for=\"sk-estimator-id-10\" class=\"sk-toggleable__label sk-toggleable__label-arrow\">ColumnTransformer</label><div class=\"sk-toggleable__content\"><pre>ColumnTransformer(remainder=&#x27;passthrough&#x27;,\n",
       "                  transformers=[(&#x27;tn1&#x27;, SimpleImputer(), [&#x27;fever&#x27;]),\n",
       "                                (&#x27;tn2&#x27;,\n",
       "                                 OrdinalEncoder(categories=[[&#x27;Mild&#x27;,\n",
       "                                                             &#x27;Strong&#x27;]]),\n",
       "                                 [&#x27;cough&#x27;]),\n",
       "                                (&#x27;tn3&#x27;,\n",
       "                                 OneHotEncoder(drop=&#x27;first&#x27;, sparse=False),\n",
       "                                 [&#x27;gender&#x27;, &#x27;city&#x27;])])</pre></div></div></div><div class=\"sk-parallel\"><div class=\"sk-parallel-item\"><div class=\"sk-item\"><div class=\"sk-label-container\"><div class=\"sk-label sk-toggleable\"><input class=\"sk-toggleable__control sk-hidden--visually\" id=\"sk-estimator-id-11\" type=\"checkbox\" ><label for=\"sk-estimator-id-11\" class=\"sk-toggleable__label sk-toggleable__label-arrow\">tn1</label><div class=\"sk-toggleable__content\"><pre>[&#x27;fever&#x27;]</pre></div></div></div><div class=\"sk-serial\"><div class=\"sk-item\"><div class=\"sk-estimator sk-toggleable\"><input class=\"sk-toggleable__control sk-hidden--visually\" id=\"sk-estimator-id-12\" type=\"checkbox\" ><label for=\"sk-estimator-id-12\" class=\"sk-toggleable__label sk-toggleable__label-arrow\">SimpleImputer</label><div class=\"sk-toggleable__content\"><pre>SimpleImputer()</pre></div></div></div></div></div></div><div class=\"sk-parallel-item\"><div class=\"sk-item\"><div class=\"sk-label-container\"><div class=\"sk-label sk-toggleable\"><input class=\"sk-toggleable__control sk-hidden--visually\" id=\"sk-estimator-id-13\" type=\"checkbox\" ><label for=\"sk-estimator-id-13\" class=\"sk-toggleable__label sk-toggleable__label-arrow\">tn2</label><div class=\"sk-toggleable__content\"><pre>[&#x27;cough&#x27;]</pre></div></div></div><div class=\"sk-serial\"><div class=\"sk-item\"><div class=\"sk-estimator sk-toggleable\"><input class=\"sk-toggleable__control sk-hidden--visually\" id=\"sk-estimator-id-14\" type=\"checkbox\" ><label for=\"sk-estimator-id-14\" class=\"sk-toggleable__label sk-toggleable__label-arrow\">OrdinalEncoder</label><div class=\"sk-toggleable__content\"><pre>OrdinalEncoder(categories=[[&#x27;Mild&#x27;, &#x27;Strong&#x27;]])</pre></div></div></div></div></div></div><div class=\"sk-parallel-item\"><div class=\"sk-item\"><div class=\"sk-label-container\"><div class=\"sk-label sk-toggleable\"><input class=\"sk-toggleable__control sk-hidden--visually\" id=\"sk-estimator-id-15\" type=\"checkbox\" ><label for=\"sk-estimator-id-15\" class=\"sk-toggleable__label sk-toggleable__label-arrow\">tn3</label><div class=\"sk-toggleable__content\"><pre>[&#x27;gender&#x27;, &#x27;city&#x27;]</pre></div></div></div><div class=\"sk-serial\"><div class=\"sk-item\"><div class=\"sk-estimator sk-toggleable\"><input class=\"sk-toggleable__control sk-hidden--visually\" id=\"sk-estimator-id-16\" type=\"checkbox\" ><label for=\"sk-estimator-id-16\" class=\"sk-toggleable__label sk-toggleable__label-arrow\">OneHotEncoder</label><div class=\"sk-toggleable__content\"><pre>OneHotEncoder(drop=&#x27;first&#x27;, sparse=False)</pre></div></div></div></div></div></div><div class=\"sk-parallel-item\"><div class=\"sk-item\"><div class=\"sk-label-container\"><div class=\"sk-label sk-toggleable\"><input class=\"sk-toggleable__control sk-hidden--visually\" id=\"sk-estimator-id-17\" type=\"checkbox\" ><label for=\"sk-estimator-id-17\" class=\"sk-toggleable__label sk-toggleable__label-arrow\">remainder</label><div class=\"sk-toggleable__content\"><pre></pre></div></div></div><div class=\"sk-serial\"><div class=\"sk-item\"><div class=\"sk-estimator sk-toggleable\"><input class=\"sk-toggleable__control sk-hidden--visually\" id=\"sk-estimator-id-18\" type=\"checkbox\" ><label for=\"sk-estimator-id-18\" class=\"sk-toggleable__label sk-toggleable__label-arrow\">passthrough</label><div class=\"sk-toggleable__content\"><pre>passthrough</pre></div></div></div></div></div></div></div></div></div></div>"
      ],
      "text/plain": [
       "ColumnTransformer(remainder='passthrough',\n",
       "                  transformers=[('tn1', SimpleImputer(), ['fever']),\n",
       "                                ('tn2',\n",
       "                                 OrdinalEncoder(categories=[['Mild',\n",
       "                                                             'Strong']]),\n",
       "                                 ['cough']),\n",
       "                                ('tn3',\n",
       "                                 OneHotEncoder(drop='first', sparse=False),\n",
       "                                 ['gender', 'city'])])"
      ]
     },
     "execution_count": 30,
     "metadata": {},
     "output_type": "execute_result"
    }
   ],
   "source": [
    "transformer"
   ]
  },
  {
   "cell_type": "code",
   "execution_count": 31,
   "id": "c772a6f6-9271-4ffb-b8e2-f2f35ee20ad2",
   "metadata": {},
   "outputs": [
    {
     "name": "stderr",
     "output_type": "stream",
     "text": [
      "C:\\Users\\amank\\anaconda3\\Lib\\site-packages\\sklearn\\preprocessing\\_encoders.py:868: FutureWarning: `sparse` was renamed to `sparse_output` in version 1.2 and will be removed in 1.4. `sparse_output` is ignored unless you leave `sparse` to its default value.\n",
      "  warnings.warn(\n"
     ]
    },
    {
     "data": {
      "text/plain": [
       "(80, 7)"
      ]
     },
     "execution_count": 31,
     "metadata": {},
     "output_type": "execute_result"
    }
   ],
   "source": [
    "transformer.fit_transform(x_train).shape"
   ]
  },
  {
   "cell_type": "code",
   "execution_count": 32,
   "id": "ff3a3ceb-48d5-4bfc-8345-70d190ca3e25",
   "metadata": {},
   "outputs": [
    {
     "data": {
      "text/plain": [
       "(20, 7)"
      ]
     },
     "execution_count": 32,
     "metadata": {},
     "output_type": "execute_result"
    }
   ],
   "source": [
    "transformer.transform(x_test).shape"
   ]
  },
  {
   "cell_type": "code",
   "execution_count": null,
   "id": "8236e2f4-85b8-4a63-863f-64bbc20603ac",
   "metadata": {},
   "outputs": [],
   "source": []
  }
 ],
 "metadata": {
  "kernelspec": {
   "display_name": "Python 3 (ipykernel)",
   "language": "python",
   "name": "python3"
  },
  "language_info": {
   "codemirror_mode": {
    "name": "ipython",
    "version": 3
   },
   "file_extension": ".py",
   "mimetype": "text/x-python",
   "name": "python",
   "nbconvert_exporter": "python",
   "pygments_lexer": "ipython3",
   "version": "3.11.7"
  }
 },
 "nbformat": 4,
 "nbformat_minor": 5
}
