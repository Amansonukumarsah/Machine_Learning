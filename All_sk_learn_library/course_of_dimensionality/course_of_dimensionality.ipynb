{
 "cells": [
  {
   "cell_type": "markdown",
   "id": "1ea197cd-c1e2-4f11-ac64-3bc4c3c0150e",
   "metadata": {},
   "source": [
    "# it say that if you increase or add the number of feature in dataset that is good but you have to fixed at a optimal position \n",
    "# after excedding the optimal position then after that adding the new feature in dataset is not so benefit"
   ]
  },
  {
   "cell_type": "code",
   "execution_count": 3,
   "id": "437872c9-5959-4239-8532-a46a914d82df",
   "metadata": {},
   "outputs": [],
   "source": [
    "# if you increase the feature or in the higher dimension phase in that case data will be sparse\n",
    "# 1.reason:-\n",
    "\n",
    "# 1.performance is increase\n",
    "# 2.computation is increase"
   ]
  },
  {
   "cell_type": "markdown",
   "id": "6f5055b9-bb67-4af8-a316-7462ef2cc38a",
   "metadata": {},
   "source": [
    "# solution for that is :- Dimesonality reduction:-  1.feature selection(forward selection,backward selection) 2.feature extraction(pca,lda,tsne)"
   ]
  },
  {
   "cell_type": "code",
   "execution_count": null,
   "id": "fd5dabf3-eb06-46a9-af6d-7473c264c7d3",
   "metadata": {},
   "outputs": [],
   "source": []
  }
 ],
 "metadata": {
  "kernelspec": {
   "display_name": "Python 3 (ipykernel)",
   "language": "python",
   "name": "python3"
  },
  "language_info": {
   "codemirror_mode": {
    "name": "ipython",
    "version": 3
   },
   "file_extension": ".py",
   "mimetype": "text/x-python",
   "name": "python",
   "nbconvert_exporter": "python",
   "pygments_lexer": "ipython3",
   "version": "3.11.7"
  }
 },
 "nbformat": 4,
 "nbformat_minor": 5
}
